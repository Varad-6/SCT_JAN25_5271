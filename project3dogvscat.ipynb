{
 "cells": [
  {
   "cell_type": "code",
   "execution_count": 3,
   "id": "b34b4ffa-1b84-4a05-b9af-aed390534121",
   "metadata": {},
   "outputs": [
    {
     "name": "stdout",
     "output_type": "stream",
     "text": [
      "Collecting opencv-python\n",
      "  Using cached opencv_python-4.11.0.86-cp37-abi3-win_amd64.whl.metadata (20 kB)\n",
      "Collecting opencv-python-headless\n",
      "  Downloading opencv_python_headless-4.11.0.86-cp37-abi3-win_amd64.whl.metadata (20 kB)\n",
      "Requirement already satisfied: numpy>=1.21.2 in c:\\users\\asus\\anaconda3\\lib\\site-packages (from opencv-python) (1.26.4)\n",
      "Using cached opencv_python-4.11.0.86-cp37-abi3-win_amd64.whl (39.5 MB)\n",
      "Downloading opencv_python_headless-4.11.0.86-cp37-abi3-win_amd64.whl (39.4 MB)\n",
      "   ---------------------------------------- 0.0/39.4 MB ? eta -:--:--\n",
      "   - -------------------------------------- 1.6/39.4 MB 8.4 MB/s eta 0:00:05\n",
      "   -- ------------------------------------- 2.9/39.4 MB 7.6 MB/s eta 0:00:05\n",
      "   ---- ----------------------------------- 4.5/39.4 MB 7.3 MB/s eta 0:00:05\n",
      "   ------ --------------------------------- 6.0/39.4 MB 7.5 MB/s eta 0:00:05\n",
      "   -------- ------------------------------- 8.1/39.4 MB 8.1 MB/s eta 0:00:04\n",
      "   --------- ------------------------------ 9.7/39.4 MB 8.0 MB/s eta 0:00:04\n",
      "   ----------- ---------------------------- 11.5/39.4 MB 8.2 MB/s eta 0:00:04\n",
      "   ------------- -------------------------- 13.6/39.4 MB 8.2 MB/s eta 0:00:04\n",
      "   --------------- ------------------------ 15.2/39.4 MB 8.1 MB/s eta 0:00:03\n",
      "   ----------------- ---------------------- 17.6/39.4 MB 8.4 MB/s eta 0:00:03\n",
      "   ------------------- -------------------- 19.4/39.4 MB 8.4 MB/s eta 0:00:03\n",
      "   -------------------- ------------------- 20.2/39.4 MB 8.4 MB/s eta 0:00:03\n",
      "   ----------------------- ---------------- 23.1/39.4 MB 8.4 MB/s eta 0:00:02\n",
      "   ------------------------- -------------- 24.6/39.4 MB 8.4 MB/s eta 0:00:02\n",
      "   -------------------------- ------------- 26.5/39.4 MB 8.4 MB/s eta 0:00:02\n",
      "   ---------------------------- ----------- 28.3/39.4 MB 8.4 MB/s eta 0:00:02\n",
      "   ------------------------------ --------- 30.1/39.4 MB 8.4 MB/s eta 0:00:02\n",
      "   -------------------------------- ------- 31.7/39.4 MB 8.4 MB/s eta 0:00:01\n",
      "   ---------------------------------- ----- 33.6/39.4 MB 8.4 MB/s eta 0:00:01\n",
      "   ----------------------------------- ---- 35.4/39.4 MB 8.4 MB/s eta 0:00:01\n",
      "   ------------------------------------- -- 37.0/39.4 MB 8.4 MB/s eta 0:00:01\n",
      "   ---------------------------------------  38.5/39.4 MB 8.4 MB/s eta 0:00:01\n",
      "   ---------------------------------------  39.3/39.4 MB 8.3 MB/s eta 0:00:01\n",
      "   ---------------------------------------- 39.4/39.4 MB 8.0 MB/s eta 0:00:00\n",
      "Installing collected packages: opencv-python-headless, opencv-python\n",
      "Successfully installed opencv-python-4.11.0.86 opencv-python-headless-4.11.0.86\n"
     ]
    }
   ],
   "source": [
    "!pip install opencv-python opencv-python-headless\n"
   ]
  },
  {
   "cell_type": "code",
   "execution_count": 49,
   "id": "7d36184d-5d63-4dc4-8dfc-c7cc86ef1664",
   "metadata": {},
   "outputs": [
    {
     "name": "stdout",
     "output_type": "stream",
     "text": [
      "Model Accuracy: 66.67%\n"
     ]
    },
    {
     "data": {
      "image/png": "[encoded data removed]",
      "text/plain": [
       "<Figure size 1200x400 with 3 Axes>"
      ]
     },
     "metadata": {},
     "output_type": "display_data"
    }
   ],
   "source": [
    "import os\n",
    "import cv2\n",
    "import numpy as np\n",
    "import matplotlib.pyplot as plt\n",
    "from sklearn.model_selection import train_test_split\n",
    "from sklearn.svm import SVC\n",
    "from sklearn.metrics import accuracy_score\n",
    "\n",
    "# Set dataset path\n",
    "dataset_path = r\"C:\\Users\\ASUS\\Downloads\\pets\"  # Make sure this path contains 'dog/' and 'cat/' folders\n",
    "img_size = 64  # Resize images to 64x64\n",
    "\n",
    "# Load dataset\n",
    "data = []\n",
    "labels = []\n",
    "\n",
    "for category in [\"dog\", \"cat\"]:\n",
    "    path = os.path.join(dataset_path, category)\n",
    "    class_label = 1 if category == \"dog\" else 0  # 1 for dogs, 0 for cats\n",
    "\n",
    "    for img_name in os.listdir(path):\n",
    "        img_path = os.path.join(path, img_name)\n",
    "        img = cv2.imread(img_path, cv2.IMREAD_GRAYSCALE)  # Convert to grayscale\n",
    "        if img is not None:\n",
    "            img = cv2.resize(img, (img_size, img_size))  # Resize to 64x64\n",
    "            data.append(img.flatten())  # Flatten into 1D array\n",
    "            labels.append(class_label)\n",
    "\n",
    "# Convert to NumPy arrays\n",
    "X = np.array(data)\n",
    "y = np.array(labels)\n",
    "\n",
    "# Split dataset\n",
    "X_train, X_test, y_train, y_test = train_test_split(X, y, test_size=0.2, random_state=42)\n",
    "\n",
    "# Train SVM Model\n",
    "model = SVC(kernel='linear')\n",
    "model.fit(X_train, y_train)\n",
    "\n",
    "# Predict on test data\n",
    "y_pred = model.predict(X_test)\n",
    "\n",
    "# Evaluate accuracy\n",
    "accuracy = accuracy_score(y_test, y_pred)\n",
    "print(f\"Model Accuracy: {accuracy * 100:.2f}%\")\n",
    "\n",
    "# Visualizing test results\n",
    "num_images = min(len(X_test), 5)  # Ensure we don't exceed available images\n",
    "fig, axes = plt.subplots(1, num_images, figsize=(12, 4))\n",
    "\n",
    "for i, ax in enumerate(axes):\n",
    "    img = X_test[i].reshape(img_size, img_size)  # Reshape for visualization\n",
    "    label = \"Dog\" if y_pred[i] == 1 else \"Cat\"\n",
    "    ax.imshow(img, cmap='gray')\n",
    "    ax.set_title(label)\n",
    "    ax.axis(\"off\")\n",
    "\n",
    "plt.show()\n"
   ]
  },
  {
   "cell_type": "code",
   "execution_count": null,
   "id": "6618eceb-64c9-45a1-b652-b58ec3a2e82d",
   "metadata": {},
   "outputs": [],
   "source": []
  },
  {
   "cell_type": "code",
   "execution_count": null,
   "id": "de922740-9ce7-4821-98bf-32a53557926d",
   "metadata": {},
   "outputs": [],
   "source": []
  },
  {
   "cell_type": "code",
   "execution_count": null,
   "id": "90cdf505-cca2-450e-ade7-bf3e4e2fd2b3",
   "metadata": {},
   "outputs": [],
   "source": []
  },
  {
   "cell_type": "code",
   "execution_count": null,
   "id": "0aa7c32a-7e8f-4491-b233-20db59c3cae8",
   "metadata": {},
   "outputs": [],
   "source": []
  }
 ],
 "metadata": {
  "kernelspec": {
   "display_name": "Python [conda env:base] *",
   "language": "python",
   "name": "conda-base-py"
  },
  "language_info": {
   "codemirror_mode": {
    "name": "ipython",
    "version": 3
   },
   "file_extension": ".py",
   "mimetype": "text/x-python",
   "name": "python",
   "nbconvert_exporter": "python",
   "pygments_lexer": "ipython3",
   "version": "3.12.7"
  }
 },
 "nbformat": 4,
 "nbformat_minor": 5
}
